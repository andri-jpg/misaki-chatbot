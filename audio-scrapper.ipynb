{
 "cells": [
  {
   "cell_type": "code",
   "execution_count": null,
   "metadata": {},
   "outputs": [],
   "source": [
    "char='misaki'\n",
    "language='Japanese'"
   ]
  },
  {
   "cell_type": "code",
   "execution_count": 1,
   "metadata": {},
   "outputs": [
    {
     "name": "stdout",
     "output_type": "stream",
     "text": [
      "147\n",
      "c:\\laragon\\www\\misaki-chatbot\\{char}\n"
     ]
    }
   ],
   "source": [
    "import wget\n",
    "from selenium import webdriver\n",
    "from selenium.webdriver.common.by import By\n",
    "\n",
    "driver = webdriver.Chrome()\n",
    "page = \"https://bluearchive.fandom.com/wiki/Imashino_Misaki/Audio#JP_\"\n",
    "driver.get(page)\n",
    "lnks=driver.find_elements(By.TAG_NAME, 'audio')\n",
    "print(len(lnks))\n",
    "data = []\n",
    "for lnk in lnks:\n",
    "    link = lnk.get_attribute('src')\n",
    "    data.append(link)\n",
    "\n",
    "driver.close()\n",
    "\n",
    "!mkdir {char}\n",
    "%cd {char}\n",
    "\n",
    "for links in data:\n",
    "    wget.download(links)"
   ]
  },
  {
   "cell_type": "code",
   "execution_count": 1,
   "metadata": {},
   "outputs": [],
   "source": [
    "import os\n",
    "\n",
    "folder = 'misaki'\n",
    "for filename in os.listdir(folder):\n",
    "    if filename.endswith('_KR.ogg'):\n",
    "        os.remove(os.path.join(folder, filename))"
   ]
  }
 ],
 "metadata": {
  "kernelspec": {
   "display_name": "base",
   "language": "python",
   "name": "python3"
  },
  "language_info": {
   "codemirror_mode": {
    "name": "ipython",
    "version": 3
   },
   "file_extension": ".py",
   "mimetype": "text/x-python",
   "name": "python",
   "nbconvert_exporter": "python",
   "pygments_lexer": "ipython3",
   "version": "3.12.3"
  },
  "orig_nbformat": 4
 },
 "nbformat": 4,
 "nbformat_minor": 2
}
